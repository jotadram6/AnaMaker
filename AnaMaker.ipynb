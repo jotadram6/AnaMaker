{
 "metadata": {
  "name": ""
 },
 "nbformat": 3,
 "nbformat_minor": 0,
 "worksheets": [
  {
   "cells": [
    {
     "cell_type": "code",
     "collapsed": false,
     "input": [
      "from Generic import *\n",
      "%matplotlib inline"
     ],
     "language": "python",
     "metadata": {},
     "outputs": [],
     "prompt_number": 1
    },
    {
     "cell_type": "code",
     "collapsed": false,
     "input": [
      "ROOT.gROOT.ProcessLine(\"#include <math.h>\")"
     ],
     "language": "python",
     "metadata": {},
     "outputs": [
      {
       "metadata": {},
       "output_type": "pyout",
       "prompt_number": 2,
       "text": [
        "0L"
       ]
      }
     ],
     "prompt_number": 2
    },
    {
     "cell_type": "code",
     "collapsed": false,
     "input": [
      "#To read Delphes root files\n",
      "ROOT.gSystem.Load(\"libDelphes\")"
     ],
     "language": "python",
     "metadata": {},
     "outputs": [
      {
       "metadata": {},
       "output_type": "pyout",
       "prompt_number": 3,
       "text": [
        "0"
       ]
      }
     ],
     "prompt_number": 3
    },
    {
     "cell_type": "code",
     "collapsed": false,
     "input": [
      "#If input samples is a list use 0 if is just one file use 1 on TSam variable\n",
      "def ChainConstructor(Samples, TreeName, TSam):\n",
      "    if TSam==1:\n",
      "        MainChain=ROOT.TChain(TreeName)\n",
      "        MainChain.Add(Samples)\n",
      "        print Samples+\" added!\"\n",
      "    elif TSam==0:\n",
      "        MainChain=ROOT.TChain(TreeName)\n",
      "        for filename in os.listdir(Samples):\n",
      "            for newfile in os.listdir(Samples+filename):\n",
      "                NSamples=Samples+filename+'/'+ newfile  \n",
      "                MainChain.Add(NSamples)\n",
      "                print NSamples+\" added!\"\n",
      "        #for f in Samples:\n",
      "        #    MainChain.Add(f)\n",
      "    return MainChain"
     ],
     "language": "python",
     "metadata": {},
     "outputs": [],
     "prompt_number": 4
    },
    {
     "cell_type": "heading",
     "level": 3,
     "metadata": {},
     "source": [
      "Reading samples"
     ]
    },
    {
     "cell_type": "code",
     "collapsed": false,
     "input": [
      "TreeName=\"Delphes\"\n",
      "#Signal Samples\n",
      "SigSamples=\"/home/jose/ZvvJets_Delphes/run_32_delphes.root\"\n",
      "#SigSamples=\"/home/rsiii/IDM_VBF/Samples/Signal/signal_pp_h2h2jj.root\"\n",
      "SigTSam=1\n",
      "SigChain=ChainConstructor(SigSamples, TreeName, SigTSam)\n",
      "#Zvv Samples\n",
      "ZvvSamples=\"/home/jose/ZvvJets_Delphes/run_32_delphes.root\"\n",
      "#ZvvSamples=\"/home/rsiii/gapalaci/Samples/Zvv_jets/\"\n",
      "#ZvvSamples=\"/home/rsiii/IDM_VBF/Samples/Zvv_jets/\"\n",
      "ZvvTSam=1\n",
      "ZvvChain=ChainConstructor(ZvvSamples, TreeName, ZvvTSam)"
     ],
     "language": "python",
     "metadata": {},
     "outputs": [
      {
       "output_type": "stream",
       "stream": "stdout",
       "text": [
        "/home/jose/ZvvJets_Delphes/run_32_delphes.root added!\n",
        "/home/jose/ZvvJets_Delphes/run_32_delphes.root added!\n"
       ]
      }
     ],
     "prompt_number": 5
    },
    {
     "cell_type": "heading",
     "level": 3,
     "metadata": {},
     "source": [
      "Studying efficiencies"
     ]
    },
    {
     "cell_type": "code",
     "collapsed": false,
     "input": [
      "Cut0=\"(MissingET.MET>200.)\"\n",
      "Cut1=\"(Jet[0].PT>50.)\"\n",
      "Cut2=\"(Jet[1].PT>50.)\"\n",
      "Cut3=\"(TMath::Abs(Jet[0].Eta)<5.)\"\n",
      "Cut4=\"(TMath::Abs(Jet[1].Eta)<5.)\"\n",
      "Cut5=\"(TMath::Abs(Jet[0].Eta-Jet[1].Eta)>4.2)\"\n",
      "Cut6=\"((Jet[0].Eta*Jet[1].Eta)<0.)\"\n",
      "Cut7=\"((TMath::Sqrt(2*Jet[0].PT*Jet[1].PT*(TMath::CosH(Jet[1].Eta-Jet[0].Eta)-(TMath::Cos(Jet[1].Phi-Jet[0].Phi)))))>750.)\"\n",
      "\n",
      "BasicVBF=Cut1+\"&&\"+Cut2+\"&&\"+Cut3+\"&&\"+Cut4+\"&&\"+Cut6\n",
      "\n",
      "VariablesToCut=[['g',\"\",\"MissingET.MET\",\"(100,0,1000)\",\"\"], #MET\n",
      "                ['g',\"\",\"Jet[0].PT\",\"(100,20,1000)\",\"\"], #Jets PT\n",
      "                ['g',\"\",\"Jet[1].PT\",\"(100,20,1000)\",\"\"],\n",
      "                #['g',\"\",\"Jet[0].Eta-Jet[1].Eta\",\"(100,-10,10)\",\"\"],\n",
      "                ['g',\"\",\"(TMath::Abs(Jet[0].Eta-Jet[1].Eta))\",\"(100,-10,10)\",BasicVBF+\"&&\"+Cut0],\n",
      "                ['g',\"\",\"TMath::Sqrt(2*Jet[0].PT*Jet[1].PT*(TMath::CosH(Jet[1].Eta-Jet[0].Eta)-(TMath::Cos(Jet[1].Phi-Jet[0].Phi))))\",\"(500,10,5000)\",BasicVBF+\"&&\"+Cut0+\"&&\"+Cut7]\n",
      "                ]"
     ],
     "language": "python",
     "metadata": {},
     "outputs": [],
     "prompt_number": 6
    },
    {
     "cell_type": "heading",
     "level": 2,
     "metadata": {},
     "source": [
      "Studying cut on MET"
     ]
    },
    {
     "cell_type": "code",
     "collapsed": false,
     "input": [
      "#PDF title, root file and canvas\n",
      "PDFName=\"MET_Efficiencies_\"+time.strftime(\"%H_%M_%S_%d_%m_%y\")#+\".pdf\"\n",
      "EffFile= ROOT.TFile(PDFName+\".root\", \"recreate\")\n",
      "CurCanvScan = rootnotes.canvas(\"MyPlot\", (600, 600))\n",
      "\n",
      "#Constructing efficiency histograms\n",
      "Var=0\n",
      "SignalMETEffHisto = GetEffHisto(VariablesToCut[Var][0],\n",
      "                                VariablesToCut[Var][1],\n",
      "                                SigChain,\n",
      "                                \"Signal\",\n",
      "                                VariablesToCut[Var][2],\n",
      "                                VariablesToCut[Var][3],\n",
      "                                VariablesToCut[Var][4])\n",
      "\n",
      "ZvvMETEffHisto = GetEffHisto(VariablesToCut[Var][0],\n",
      "                                VariablesToCut[Var][1],\n",
      "                                ZvvChain,\n",
      "                                \"Zvv\",\n",
      "                                VariablesToCut[Var][2],\n",
      "                                VariablesToCut[Var][3],\n",
      "                                VariablesToCut[Var][4])\n",
      "\n",
      "Z1Histo,ZAsimovHisto = GetZHistos(VariablesToCut[Var][0],\n",
      "                                VariablesToCut[Var][1],\n",
      "                                SigChain,\n",
      "                                ZvvChain,\n",
      "                                VariablesToCut[Var][2],\n",
      "                                VariablesToCut[Var][3],\n",
      "                                VariablesToCut[Var][4])\n",
      "\n",
      "METSoverZvv=SignalMETEffHisto.Clone(\"METSoverZvv\")\n",
      "METSoverZvv.Sumw2(); METSoverZvv.Divide(ZvvMETEffHisto)\n",
      "\n",
      "#Histogram cosmetics\n",
      "ZvvMETEffHisto.SetStats(ROOT.kFALSE)\n",
      "ZvvMETEffHisto.SetLineStyle(7); SignalMETEffHisto.SetLineStyle(9); METSoverZvv.SetLineStyle(8)\n",
      "Z1Histo.SetLineStyle(6); ZAsimovHisto.SetLineStyle(10)\n",
      "ZvvMETEffHisto.SetLineWidth(2); SignalMETEffHisto.SetLineWidth(1); METSoverZvv.SetLineWidth(2)\n",
      "Z1Histo.SetLineWidth(3); ZAsimovHisto.SetLineWidth(3)\n",
      "ZvvMETEffHisto.SetLineColor(ROOT.kRed); SignalMETEffHisto.SetLineColor(ROOT.kGreen+1); METSoverZvv.SetLineColor(ROOT.kBlack)\n",
      "Z1Histo.SetLineColor(ROOT.kBlue); ZAsimovHisto.SetLineColor(ROOT.kOrange)\n",
      "\n",
      "#Setting legend\n",
      "LEG=ROOT.TLegend(0.6,0.6,0.9,0.9)\n",
      "LEG.AddEntry(ZvvMETEffHisto, \"#varepsilon(Z+jets)\", \"l\")\n",
      "LEG.AddEntry(ROOT.TObject(), GetMR(ZvvMETEffHisto), \"\")\n",
      "LEG.AddEntry(ROOT.TObject(), GetEWI(ZvvMETEffHisto), \"\")\n",
      "LEG.AddEntry(SignalMETEffHisto, \"#varepsilon(S)\", \"l\")\n",
      "LEG.AddEntry(ROOT.TObject(), GetMR(SignalMETEffHisto), \"\")\n",
      "LEG.AddEntry(ROOT.TObject(), GetEWI(SignalMETEffHisto), \"\")\n",
      "LEG.AddEntry(METSoverZvv, \"#varepsilon(S)/#varepsilon(Z+jets)\", \"l\")\n",
      "#LEG.AddEntry(ROOT.TObject(), GetMR(METSoverZvv), \"\")\n",
      "#LEG.AddEntry(ROOT.TObject(), GetEWI(METSoverZvv), \"\")\n",
      "LEG.AddEntry(Z1Histo, \"s/#sqrt(b)\", \"l\")\n",
      "LEG.AddEntry(ZAsimovHisto, \"Asimov\", \"l\")\n",
      "LEG.SetFillColor(0)\n",
      "\n",
      "#Setting maximal value of first plotted histogram\n",
      "Maxima=[ZvvMETEffHisto.GetMaximum(), SignalMETEffHisto.GetMaximum(), METSoverZvv.GetMaximum(),\n",
      "        Z1Histo.GetMaximum(), ZAsimovHisto.GetMaximum()]\n",
      "ZvvMETEffHisto.SetMaximum(1.05*max(Maxima))\n",
      "\n",
      "#Setting axis titles\n",
      "MinX=float(VariablesToCut[Var][3].split(\",\")[1])\n",
      "MaxX=float(VariablesToCut[Var][3].split(\",\")[-1][0:-1])\n",
      "Nbins=int(VariablesToCut[Var][3].split(\",\")[0][1:])\n",
      "ZvvMETEffHisto.SetTitle(\";\"+\"MET\"+\";A.U./{0:.2f} \".format((MaxX-MinX)/Nbins)+\"GeV\")\n",
      "ZvvMETEffHisto.GetYaxis().SetTitleOffset(1.4)\n",
      "\n",
      "#.GetXaxis().SetRangeUser(0,20)\n",
      "#.GetYaxis().SetRangeUser(0.1,6)\n",
      "#ROOT.gPad.SetLogy()\n",
      "\n",
      "#Plotting\n",
      "ZvvMETEffHisto.Draw(\"hist e\"); SignalMETEffHisto.Draw(\"hist e same\");\n",
      "METSoverZvv.Draw(\"E0 same\")\n",
      "Z1Histo.Draw(\"E0 same\")\n",
      "ZAsimovHisto.Draw(\"E0 same\")\n",
      "LEG.Draw()\n",
      "\n",
      "CurCanvScan.Print(PDFName+\".pdf\",\"Title:MET\")\n",
      "ZvvMETEffHisto.Write(); SignalMETEffHisto.Write(); METSoverZvv.Write(); Z1Histo.Write(); ZAsimovHisto.Write()\n",
      "EffFile.Close()"
     ],
     "language": "python",
     "metadata": {},
     "outputs": [
      {
       "output_type": "stream",
       "stream": "stdout",
       "text": [
        "MissingET.MET >> MissingETMETBaseHist(100,0,1000)\n",
        "MissingET.MET >> MissingETMETBaseHist(100,0,1000)"
       ]
      },
      {
       "output_type": "stream",
       "stream": "stdout",
       "text": [
        "\n",
        "MissingET.MET >> MissingETMETBaseHist1(100,0,1000)"
       ]
      },
      {
       "output_type": "stream",
       "stream": "stdout",
       "text": [
        "\n"
       ]
      },
      {
       "output_type": "stream",
       "stream": "stderr",
       "text": [
        "TH1F::Sumw2:0: RuntimeWarning: Sum of squares of weights structure already created\n"
       ]
      }
     ],
     "prompt_number": 8
    },
    {
     "cell_type": "heading",
     "level": 2,
     "metadata": {},
     "source": [
      "Studying cut on leading jet pt"
     ]
    },
    {
     "cell_type": "code",
     "collapsed": false,
     "input": [
      "#PDF title, root file and canvas\n",
      "PDFName=\"J1PT_Efficiencies_\"+time.strftime(\"%H_%M_%S_%d_%m_%y\")#+\".pdf\"\n",
      "EffFile= ROOT.TFile(PDFName+\".root\", \"recreate\")\n",
      "CurCanvScan = rootnotes.canvas(\"MyPlot\", (600, 600))\n",
      "\n",
      "#Constructing efficiency histograms\n",
      "Var=1\n",
      "SignalPT1EffHisto = GetEffHisto(VariablesToCut[Var][0],\n",
      "                                VariablesToCut[Var][1],\n",
      "                                SigChain,\n",
      "                                \"Signal\",\n",
      "                                VariablesToCut[Var][2],\n",
      "                                VariablesToCut[Var][3],\n",
      "                                VariablesToCut[Var][4])\n",
      "\n",
      "ZvvPT1EffHisto = GetEffHisto(VariablesToCut[Var][0],\n",
      "                                VariablesToCut[Var][1],\n",
      "                                ZvvChain,\n",
      "                                \"Zvv\",\n",
      "                                VariablesToCut[Var][2],\n",
      "                                VariablesToCut[Var][3],\n",
      "                                VariablesToCut[Var][4])\n",
      "\n",
      "PT1SoverZvv=SignalPT1EffHisto.Clone(\"PT1SoverZvv\")\n",
      "PT1SoverZvv.Sumw2(); PT1SoverZvv.Divide(ZvvPT1EffHisto)\n",
      "\n",
      "#Histogram cosmetics\n",
      "ZvvPT1EffHisto.SetStats(ROOT.kFALSE)\n",
      "ZvvPT1EffHisto.SetLineStyle(7); SignalPT1EffHisto.SetLineStyle(9); PT1SoverZvv.SetLineStyle(8)\n",
      "ZvvPT1EffHisto.SetLineWidth(2); SignalPT1EffHisto.SetLineWidth(1); PT1SoverZvv.SetLineWidth(2)\n",
      "ZvvPT1EffHisto.SetLineColor(ROOT.kRed); SignalPT1EffHisto.SetLineColor(ROOT.kGreen+1); PT1SoverZvv.SetLineColor(ROOT.kBlack)\n",
      "\n",
      "#Setting legend\n",
      "LEG=ROOT.TLegend(0.6,0.6,0.9,0.9)\n",
      "LEG.AddEntry(ZvvPT1EffHisto, \"#varepsilon(Z+jets)\", \"l\")\n",
      "LEG.AddEntry(ROOT.TObject(), GetMR(ZvvPT1EffHisto), \"\")\n",
      "LEG.AddEntry(ROOT.TObject(), GetEWI(ZvvPT1EffHisto), \"\")\n",
      "LEG.AddEntry(SignalPT1EffHisto, \"#varepsilon(S)\", \"l\")\n",
      "LEG.AddEntry(ROOT.TObject(), GetMR(SignalPT1EffHisto), \"\")\n",
      "LEG.AddEntry(ROOT.TObject(), GetEWI(SignalPT1EffHisto), \"\")\n",
      "LEG.AddEntry(PT1SoverZvv, \"#varepsilon(S)/#varepsilon(Z+jets)\", \"l\")\n",
      "LEG.AddEntry(ROOT.TObject(), GetMR(PT1SoverZvv), \"\")\n",
      "LEG.AddEntry(ROOT.TObject(), GetEWI(PT1SoverZvv), \"\")\n",
      "LEG.SetFillColor(0)\n",
      "\n",
      "#Setting maximal value of first plotted histogram\n",
      "Maxima=[ZvvPT1EffHisto.GetMaximum(), SignalPT1EffHisto.GetMaximum(), PT1SoverZvv.GetMaximum()]\n",
      "ZvvPT1EffHisto.SetMaximum(1.05*max(Maxima))\n",
      "\n",
      "#Setting axis titles\n",
      "MinX=float(VariablesToCut[Var][3].split(\",\")[1])\n",
      "MaxX=float(VariablesToCut[Var][3].split(\",\")[-1][0:-1])\n",
      "Nbins=int(VariablesToCut[Var][3].split(\",\")[0][1:])\n",
      "ZvvPT1EffHisto.SetTitle(\";\"+\"p_{T}(j_{1})\"+\";A.U./{0:.2f} \".format((MaxX-MinX)/Nbins)+\"GeV\")\n",
      "ZvvPT1EffHisto.GetYaxis().SetTitleOffset(1.4)\n",
      "\n",
      "#.GetXaxis().SetRangeUser(0,20)\n",
      "#.GetYaxis().SetRangeUser(0.1,6)\n",
      "#ROOT.gPad.SetLogy()\n",
      "\n",
      "#Plotting\n",
      "ZvvPT1EffHisto.Draw(\"hist e\"); SignalPT1EffHisto.Draw(\"hist e same\");\n",
      "PT1SoverZvv.Draw(\"E0 same\")\n",
      "\n",
      "CurCanvScan.Print(PDFName+\".pdf\",\"Title:PT1\")\n",
      "ZvvPT1EffHisto.Write(); SignalPT1EffHisto.Write(); PT1SoverZvv.Write()\n",
      "EffFile.Close()"
     ],
     "language": "python",
     "metadata": {},
     "outputs": [
      {
       "output_type": "stream",
       "stream": "stdout",
       "text": [
        "Jet[0].PT >> Jet0PTBaseHist(100,20,1000)\n",
        "Jet[0].PT >> Jet0PTBaseHist(100,20,1000)"
       ]
      },
      {
       "output_type": "stream",
       "stream": "stdout",
       "text": [
        "\n"
       ]
      },
      {
       "output_type": "stream",
       "stream": "stderr",
       "text": [
        "TH1F::Sumw2:0: RuntimeWarning: Sum of squares of weights structure already created\n"
       ]
      }
     ],
     "prompt_number": 8
    },
    {
     "cell_type": "heading",
     "level": 2,
     "metadata": {},
     "source": [
      "Studying cut on subleading jet pt"
     ]
    },
    {
     "cell_type": "code",
     "collapsed": false,
     "input": [
      "#PDF title, root file and canvas\n",
      "PDFName=\"J2PT_Efficiencies_\"+time.strftime(\"%H_%M_%S_%d_%m_%y\")#+\".pdf\"\n",
      "EffFile= ROOT.TFile(PDFName+\".root\", \"recreate\")\n",
      "CurCanvScan = rootnotes.canvas(\"MyPlot\", (600, 600))\n",
      "\n",
      "#Constructing efficiency histograms\n",
      "Var=2\n",
      "SignalPT2EffHisto = GetEffHisto(VariablesToCut[Var][0],\n",
      "                                VariablesToCut[Var][1],\n",
      "                                SigChain,\n",
      "                                \"Signal\",\n",
      "                                VariablesToCut[Var][2],\n",
      "                                VariablesToCut[Var][3],\n",
      "                                VariablesToCut[Var][4])\n",
      "\n",
      "ZvvPT2EffHisto = GetEffHisto(VariablesToCut[Var][0],\n",
      "                                VariablesToCut[Var][1],\n",
      "                                ZvvChain,\n",
      "                                \"Zvv\",\n",
      "                                VariablesToCut[Var][2],\n",
      "                                VariablesToCut[Var][3],\n",
      "                                VariablesToCut[Var][4])\n",
      "\n",
      "PT2SoverZvv=SignalPT2EffHisto.Clone(\"PT2SoverZvv\")\n",
      "PT2SoverZvv.Sumw2(); PT2SoverZvv.Divide(ZvvPT2EffHisto)\n",
      "\n",
      "#Histogram cosmetics\n",
      "ZvvPT2EffHisto.SetStats(ROOT.kFALSE)\n",
      "ZvvPT2EffHisto.SetLineStyle(7); SignalPT2EffHisto.SetLineStyle(9); PT2SoverZvv.SetLineStyle(8)\n",
      "ZvvPT2EffHisto.SetLineWidth(2); SignalPT2EffHisto.SetLineWidth(1); PT2SoverZvv.SetLineWidth(2)\n",
      "ZvvPT2EffHisto.SetLineColor(ROOT.kRed); SignalPT2EffHisto.SetLineColor(ROOT.kGreen+1); PT2SoverZvv.SetLineColor(ROOT.kBlack)\n",
      "\n",
      "#Setting legend\n",
      "LEG=ROOT.TLegend(0.6,0.6,0.9,0.9)\n",
      "LEG.AddEntry(ZvvPT2EffHisto, \"#varepsilon(Z+jets)\", \"l\")\n",
      "LEG.AddEntry(ROOT.TObject(), GetMR(ZvvPT2EffHisto), \"\")\n",
      "LEG.AddEntry(ROOT.TObject(), GetEWI(ZvvPT2EffHisto), \"\")\n",
      "LEG.AddEntry(SignalPT2EffHisto, \"#varepsilon(S)\", \"l\")\n",
      "LEG.AddEntry(ROOT.TObject(), GetMR(SignalPT2EffHisto), \"\")\n",
      "LEG.AddEntry(ROOT.TObject(), GetEWI(SignalPT2EffHisto), \"\")\n",
      "LEG.AddEntry(PT2SoverZvv, \"#varepsilon(S)/#varepsilon(Z+jets)\", \"l\")\n",
      "LEG.AddEntry(ROOT.TObject(), GetMR(PT2SoverZvv), \"\")\n",
      "LEG.AddEntry(ROOT.TObject(), GetEWI(PT2SoverZvv), \"\")\n",
      "LEG.SetFillColor(0)\n",
      "\n",
      "#Setting maximal value of first plotted histogram\n",
      "Maxima=[ZvvPT2EffHisto.GetMaximum(), SignalPT2EffHisto.GetMaximum(), PT2SoverZvv.GetMaximum()]\n",
      "ZvvPT2EffHisto.SetMaximum(1.05*max(Maxima))\n",
      "\n",
      "#Setting axis titles\n",
      "MinX=float(VariablesToCut[Var][3].split(\",\")[1])\n",
      "MaxX=float(VariablesToCut[Var][3].split(\",\")[-1][0:-1])\n",
      "Nbins=int(VariablesToCut[Var][3].split(\",\")[0][1:])\n",
      "ZvvPT2EffHisto.SetTitle(\";\"+\"p_{T}(j_{2})\"+\";A.U./{0:.2f} \".format((MaxX-MinX)/Nbins)+\"GeV\")\n",
      "ZvvPT2EffHisto.GetYaxis().SetTitleOffset(1.4)\n",
      "\n",
      "#.GetXaxis().SetRangeUser(0,20)\n",
      "#.GetYaxis().SetRangeUser(0.1,6)\n",
      "#ROOT.gPad.SetLogy()\n",
      "\n",
      "#Plotting\n",
      "ZvvPT2EffHisto.Draw(\"hist e\"); SignalPT2EffHisto.Draw(\"hist e same\");\n",
      "PT2SoverZvv.Draw(\"E0 same\")\n",
      "\n",
      "CurCanvScan.Print(PDFName+\".pdf\",\"Title:PT2\")\n",
      "ZvvPT2EffHisto.Write(); SignalPT2EffHisto.Write(); PT2SoverZvv.Write()\n",
      "EffFile.Close()"
     ],
     "language": "python",
     "metadata": {},
     "outputs": [
      {
       "output_type": "stream",
       "stream": "stdout",
       "text": [
        "Jet[1].PT >> Jet1PTBaseHist(100,20,1000)\n",
        "Jet[1].PT >> Jet1PTBaseHist(100,20,1000)"
       ]
      },
      {
       "output_type": "stream",
       "stream": "stdout",
       "text": [
        "\n"
       ]
      },
      {
       "output_type": "stream",
       "stream": "stderr",
       "text": [
        "TH1F::Sumw2:0: RuntimeWarning: Sum of squares of weights structure already created\n"
       ]
      }
     ],
     "prompt_number": 9
    },
    {
     "cell_type": "heading",
     "level": 2,
     "metadata": {},
     "source": [
      "Studying cut on delta eta leading jets"
     ]
    },
    {
     "cell_type": "code",
     "collapsed": false,
     "input": [
      "#PDF title, root file and canvas\n",
      "PDFName=\"DeltaEtaJ1J2_Efficiencies_\"+time.strftime(\"%H_%M_%S_%d_%m_%y\")#+\".pdf\"\n",
      "EffFile= ROOT.TFile(PDFName+\".root\", \"recreate\")\n",
      "CurCanvScan = rootnotes.canvas(\"MyPlot\", (600, 600))\n",
      "\n",
      "#Constructing efficiency histograms\n",
      "Var=3\n",
      "SignalDEEffHisto = GetEffHisto(VariablesToCut[Var][0],\n",
      "                                VariablesToCut[Var][1],\n",
      "                                SigChain,\n",
      "                                \"Signal\",\n",
      "                                VariablesToCut[Var][2],\n",
      "                                VariablesToCut[Var][3],\n",
      "                                VariablesToCut[Var][4])\n",
      "\n",
      "ZvvDEEffHisto = GetEffHisto(VariablesToCut[Var][0],\n",
      "                                VariablesToCut[Var][1],\n",
      "                                ZvvChain,\n",
      "                                \"Zvv\",\n",
      "                                VariablesToCut[Var][2],\n",
      "                                VariablesToCut[Var][3],\n",
      "                                VariablesToCut[Var][4])\n",
      "\n",
      "DESoverZvv=SignalDEEffHisto.Clone(\"DESoverZvv\")\n",
      "DESoverZvv.Sumw2(); DESoverZvv.Divide(ZvvDEEffHisto)\n",
      "\n",
      "#Histogram cosmetics\n",
      "ZvvDEEffHisto.SetStats(ROOT.kFALSE)\n",
      "ZvvDEEffHisto.SetLineStyle(7); SignalDEEffHisto.SetLineStyle(9); DESoverZvv.SetLineStyle(8)\n",
      "ZvvDEEffHisto.SetLineWidth(2); SignalDEEffHisto.SetLineWidth(1); DESoverZvv.SetLineWidth(2)\n",
      "ZvvDEEffHisto.SetLineColor(ROOT.kRed); SignalDEEffHisto.SetLineColor(ROOT.kGreen+1); DESoverZvv.SetLineColor(ROOT.kBlack)\n",
      "\n",
      "#Setting legend\n",
      "LEG=ROOT.TLegend(0.6,0.6,0.9,0.9)\n",
      "LEG.AddEntry(ZvvDEEffHisto, \"#varepsilon(Z+jets)\", \"l\")\n",
      "LEG.AddEntry(ROOT.TObject(), GetMR(ZvvDEEffHisto), \"\")\n",
      "LEG.AddEntry(ROOT.TObject(), GetEWI(ZvvDEEffHisto), \"\")\n",
      "LEG.AddEntry(SignalDEEffHisto, \"#varepsilon(S)\", \"l\")\n",
      "LEG.AddEntry(ROOT.TObject(), GetMR(SignalDEEffHisto), \"\")\n",
      "LEG.AddEntry(ROOT.TObject(), GetEWI(SignalDEEffHisto), \"\")\n",
      "LEG.AddEntry(DESoverZvv, \"#varepsilon(S)/#varepsilon(Z+jets)\", \"l\")\n",
      "LEG.AddEntry(ROOT.TObject(), GetMR(DESoverZvv), \"\")\n",
      "LEG.AddEntry(ROOT.TObject(), GetEWI(DESoverZvv), \"\")\n",
      "LEG.SetFillColor(0)\n",
      "\n",
      "#Setting maximal value of first plotted histogram\n",
      "Maxima=[ZvvDEEffHisto.GetMaximum(), SignalDEEffHisto.GetMaximum(), DESoverZvv.GetMaximum()]\n",
      "ZvvDEEffHisto.SetMaximum(1.05*max(Maxima))\n",
      "\n",
      "#Setting axis titles\n",
      "MinX=float(VariablesToCut[Var][3].split(\",\")[1])\n",
      "MaxX=float(VariablesToCut[Var][3].split(\",\")[-1][0:-1])\n",
      "Nbins=int(VariablesToCut[Var][3].split(\",\")[0][1:])\n",
      "ZvvDEEffHisto.SetTitle(\";\"+\"#Delta#eta(j_{1},j_{2})\"+\";A.U./{0:.2f} \".format((MaxX-MinX)/Nbins)+\"GeV\")\n",
      "ZvvDEEffHisto.GetYaxis().SetTitleOffset(1.4)\n",
      "\n",
      "#.GetXaxis().SetRangeUser(0,20)\n",
      "#.GetYaxis().SetRangeUser(0.1,6)\n",
      "#ROOT.gPad.SetLogy()\n",
      "\n",
      "#Plotting\n",
      "ZvvDEEffHisto.Draw(\"hist e\"); SignalDEEffHisto.Draw(\"hist e same\");\n",
      "DESoverZvv.Draw(\"E0 same\")\n",
      "\n",
      "CurCanvScan.Print(PDFName+\".pdf\",\"Title:Delta ETA J1 J2\")\n",
      "ZvvDEEffHisto.Write(); SignalDEEffHisto.Write(); DESoverZvv.Write()\n",
      "EffFile.Close()"
     ],
     "language": "python",
     "metadata": {},
     "outputs": [
      {
       "output_type": "stream",
       "stream": "stdout",
       "text": [
        "(TMath::Abs(Jet[0].Eta-Jet[1].Eta)) >> TMathAbsJet0Eta_Jet1EtaBaseHist(100,-10,10)\n",
        "(TMath::Abs(Jet[0].Eta-Jet[1].Eta)) >> TMathAbsJet0Eta_Jet1EtaBaseHist(100,-10,10)"
       ]
      },
      {
       "output_type": "stream",
       "stream": "stdout",
       "text": [
        "\n"
       ]
      },
      {
       "output_type": "stream",
       "stream": "stderr",
       "text": [
        "TH1F::Sumw2:0: RuntimeWarning: Sum of squares of weights structure already created\n"
       ]
      }
     ],
     "prompt_number": 10
    },
    {
     "cell_type": "heading",
     "level": 2,
     "metadata": {},
     "source": [
      "Studying cut on invariant mass of leading jets"
     ]
    },
    {
     "cell_type": "code",
     "collapsed": false,
     "input": [
      "#PDF title, root file and canvas\n",
      "PDFName=\"MJ1J2_Efficiencies_\"+time.strftime(\"%H_%M_%S_%d_%m_%y\")#+\".pdf\"\n",
      "EffFile= ROOT.TFile(PDFName+\".root\", \"recreate\")\n",
      "CurCanvScan = rootnotes.canvas(\"MyPlot\", (600, 600))\n",
      "\n",
      "#Constructing efficiency histograms\n",
      "Var=4\n",
      "SignalDEEffHisto = GetEffHisto(VariablesToCut[Var][0],\n",
      "                                VariablesToCut[Var][1],\n",
      "                                SigChain,\n",
      "                                \"Signal\",\n",
      "                                VariablesToCut[Var][2],\n",
      "                                VariablesToCut[Var][3],\n",
      "                                VariablesToCut[Var][4])\n",
      "\n",
      "ZvvDEEffHisto = GetEffHisto(VariablesToCut[Var][0],\n",
      "                                VariablesToCut[Var][1],\n",
      "                                ZvvChain,\n",
      "                                \"Zvv\",\n",
      "                                VariablesToCut[Var][2],\n",
      "                                VariablesToCut[Var][3],\n",
      "                                VariablesToCut[Var][4])\n",
      "\n",
      "DESoverZvv=SignalDEEffHisto.Clone(\"DESoverZvv\")\n",
      "DESoverZvv.Sumw2(); DESoverZvv.Divide(ZvvDEEffHisto)\n",
      "\n",
      "#Histogram cosmetics\n",
      "ZvvDEEffHisto.SetStats(ROOT.kFALSE)\n",
      "ZvvDEEffHisto.SetLineStyle(7); SignalDEEffHisto.SetLineStyle(9); DESoverZvv.SetLineStyle(8)\n",
      "ZvvDEEffHisto.SetLineWidth(2); SignalDEEffHisto.SetLineWidth(1); DESoverZvv.SetLineWidth(2)\n",
      "ZvvDEEffHisto.SetLineColor(ROOT.kRed); SignalDEEffHisto.SetLineColor(ROOT.kGreen+1); DESoverZvv.SetLineColor(ROOT.kBlack)\n",
      "\n",
      "#Setting legend\n",
      "LEG=ROOT.TLegend(0.6,0.6,0.9,0.9)\n",
      "LEG.AddEntry(ZvvDEEffHisto, \"#varepsilon(Z+jets)\", \"l\")\n",
      "LEG.AddEntry(ROOT.TObject(), GetMR(ZvvDEEffHisto), \"\")\n",
      "LEG.AddEntry(ROOT.TObject(), GetEWI(ZvvDEEffHisto), \"\")\n",
      "LEG.AddEntry(SignalDEEffHisto, \"#varepsilon(S)\", \"l\")\n",
      "LEG.AddEntry(ROOT.TObject(), GetMR(SignalDEEffHisto), \"\")\n",
      "LEG.AddEntry(ROOT.TObject(), GetEWI(SignalDEEffHisto), \"\")\n",
      "LEG.AddEntry(DESoverZvv, \"#varepsilon(S)/#varepsilon(Z+jets)\", \"l\")\n",
      "LEG.AddEntry(ROOT.TObject(), GetMR(DESoverZvv), \"\")\n",
      "LEG.AddEntry(ROOT.TObject(), GetEWI(DESoverZvv), \"\")\n",
      "LEG.SetFillColor(0)\n",
      "\n",
      "#Setting maximal value of first plotted histogram\n",
      "Maxima=[ZvvDEEffHisto.GetMaximum(), SignalDEEffHisto.GetMaximum(), DESoverZvv.GetMaximum()]\n",
      "ZvvDEEffHisto.SetMaximum(1.05*max(Maxima))\n",
      "\n",
      "#Setting axis titles\n",
      "MinX=float(VariablesToCut[Var][3].split(\",\")[1])\n",
      "MaxX=float(VariablesToCut[Var][3].split(\",\")[-1][0:-1])\n",
      "Nbins=int(VariablesToCut[Var][3].split(\",\")[0][1:])\n",
      "ZvvDEEffHisto.SetTitle(\";\"+\"#M#(j_{1},j_{2})\"+\";A.U./{0:.2f} \".format((MaxX-MinX)/Nbins)+\"GeV\")\n",
      "ZvvDEEffHisto.GetYaxis().SetTitleOffset(1.4)\n",
      "\n",
      "#.GetXaxis().SetRangeUser(0,20)\n",
      "#.GetYaxis().SetRangeUser(0.1,6)\n",
      "ROOT.gPad.SetLogy()\n",
      "\n",
      "#Plotting\n",
      "ZvvDEEffHisto.Draw(\"hist e\"); SignalDEEffHisto.Draw(\"hist e same\");\n",
      "DESoverZvv.Draw(\"E0 same\")\n",
      "\n",
      "CurCanvScan.Print(PDFName+\".pdf\",\"Title:M J1 J2\")\n",
      "ZvvDEEffHisto.Write(); SignalDEEffHisto.Write(); DESoverZvv.Write()\n",
      "EffFile.Close()"
     ],
     "language": "python",
     "metadata": {},
     "outputs": [
      {
       "output_type": "stream",
       "stream": "stdout",
       "text": [
        "TMath::Sqrt(2*Jet[0].PT*Jet[1].PT*(TMath::CosH(Jet[1].Eta-Jet[0].Eta)-(TMath::Cos(Jet[1].Phi-Jet[0].Phi)))) >> TMathSqrt2_Jet0PT_Jet1PT_TMathCosHJet1Eta_Jet0Eta_TMathCosJet1Phi_Jet0PhiBaseHist(500,10,5000)\n",
        "TMath::Sqrt(2*Jet[0].PT*Jet[1].PT*(TMath::CosH(Jet[1].Eta-Jet[0].Eta)-(TMath::Cos(Jet[1].Phi-Jet[0].Phi)))) >> TMathSqrt2_Jet0PT_Jet1PT_TMathCosHJet1Eta_Jet0Eta_TMathCosJet1Phi_Jet0PhiBaseHist(500,10,5000)"
       ]
      },
      {
       "output_type": "stream",
       "stream": "stdout",
       "text": [
        "\n"
       ]
      },
      {
       "output_type": "stream",
       "stream": "stderr",
       "text": [
        "TH1F::Sumw2:0: RuntimeWarning: Sum of squares of weights structure already created\n"
       ]
      }
     ],
     "prompt_number": 11
    },
    {
     "cell_type": "markdown",
     "metadata": {},
     "source": [
      "## Cross section input for signal and background\n",
      "For the background $$\\sigma(Z\\nu\\nu)=11933.45 \\ pb$$ \n",
      "And for the main signal $$\\sigma(pp \\to H^{0} H^{0} j j )=0.008599 \\ pb$$ "
     ]
    },
    {
     "cell_type": "code",
     "collapsed": false,
     "input": [
      "XSZvv=11933.45; # pb\n",
      "XS_sig=0.008599; # pb\n",
      "lumi=30 # fb-1"
     ],
     "language": "python",
     "metadata": {},
     "outputs": [],
     "prompt_number": 12
    },
    {
     "cell_type": "code",
     "collapsed": false,
     "input": [
      "def statist(XS_sig,XS_back,lumi,En_sig,En_back,En_sig_0,En_back_0):\n",
      "    import numpy as np\n",
      "    '''\n",
      "    XS_sig  --> Signal cross-section [pb]\n",
      "    XS_back --> Background cross-section [pb]\n",
      "    lumi    --> Luminosity in [fb-1]\n",
      "    En_sig  --> Entries for the signal\n",
      "    En_back --> Entries for the background\n",
      "    '''\n",
      "    ws=(lumi*XS_sig*1000.)/En_sig_0\n",
      "    wb=(lumi*XS_back*1000.)/En_back_0\n",
      "    Ns=En_sig*ws\n",
      "    Nb=En_back*wb\n",
      "    R1=Ns/Nb\n",
      "    R2=Ns/np.sqrt(Ns+Nb) #Optimization of precision of the measurement\n",
      "    R3=Ns/np.sqrt(Nb) #Optimization of signal discovery when S<<B\n",
      "    R4=np.sqrt(2*((Ns+Nb)*np.log(1.+(Ns/Nb))-Ns)) #Optimization of signal discovery\n",
      "    return ws,wb,Ns,Nb,R1,R2,R3,R4"
     ],
     "language": "python",
     "metadata": {},
     "outputs": [],
     "prompt_number": 13
    },
    {
     "cell_type": "code",
     "collapsed": false,
     "input": [],
     "language": "python",
     "metadata": {},
     "outputs": []
    }
   ],
   "metadata": {}
  }
 ]
}