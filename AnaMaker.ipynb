{
 "metadata": {
  "name": ""
 },
 "nbformat": 3,
 "nbformat_minor": 0,
 "worksheets": [
  {
   "cells": [
    {
     "cell_type": "code",
     "collapsed": false,
     "input": [
      "from Generic import *\n",
      "%matplotlib inline"
     ],
     "language": "python",
     "metadata": {},
     "outputs": [],
     "prompt_number": 1
    },
    {
     "cell_type": "code",
     "collapsed": false,
     "input": [
      "#To read Delphes root files\n",
      "ROOT.gSystem.Load(\"libDelphes\")"
     ],
     "language": "python",
     "metadata": {},
     "outputs": [
      {
       "metadata": {},
       "output_type": "pyout",
       "prompt_number": 2,
       "text": [
        "0"
       ]
      }
     ],
     "prompt_number": 2
    },
    {
     "cell_type": "code",
     "collapsed": false,
     "input": [
      "#If input samples is a list use 0 if is just one file use 1 on TSam variable\n",
      "def ChainConstructor(Samples, TreeName, TSam):\n",
      "    if TSam==1:\n",
      "        MainChain=ROOT.TChain(TreeName)\n",
      "        MainChain.Add(Samples)\n",
      "    elif TSam==0:\n",
      "        MainChain=ROOT.TChain(TreeName)\n",
      "        for f in Samples:\n",
      "            MainChain.Add(f)\n",
      "    return MainChain"
     ],
     "language": "python",
     "metadata": {},
     "outputs": [],
     "prompt_number": 3
    },
    {
     "cell_type": "heading",
     "level": 3,
     "metadata": {},
     "source": [
      "Reading samples"
     ]
    },
    {
     "cell_type": "code",
     "collapsed": false,
     "input": [
      "TreeName=\"Delphes\"\n",
      "#Signal Samples\n",
      "SigSamples=[\"/home/jose/ZvvJets_Delphes/run_32_delphes.root\"]\n",
      "SigTSam=0\n",
      "SigChain=ChainConstructor(SigSamples, TreeName, SigTSam)\n",
      "#Zvv Samples\n",
      "ZvvSamples=[\"/home/jose/ZvvJets_Delphes/run_32_delphes.root\"]\n",
      "ZvvTSam=0\n",
      "ZvvChain=ChainConstructor(ZvvSamples, TreeName, ZvvTSam)"
     ],
     "language": "python",
     "metadata": {},
     "outputs": [],
     "prompt_number": 4
    },
    {
     "cell_type": "heading",
     "level": 3,
     "metadata": {},
     "source": [
      "Studying efficiencies"
     ]
    },
    {
     "cell_type": "code",
     "collapsed": false,
     "input": [
      "VariablesToCut=[['g',\"\",\"MissingET.MET\",\"(100,0,1000)\",\"\"], #MET\n",
      "                ['g',\"\",\"Jet[0].PT\",\"(100,20,1000)\",\"\"], #Jets PT\n",
      "                ['g',\"\",\"Jet[1].PT\",\"(100,20,1000)\",\"\"],\n",
      "                ['g',\"\",\"Jet[0].Eta-Jet[1].Eta\",\"(100,-10,10)\",\"\"],\n",
      "                ['g',\"\",\"sqrt(Jet[0].Eta-Jet[1].Eta)\",\"(100,-10,10)\",\"\"]\n",
      "                ]"
     ],
     "language": "python",
     "metadata": {},
     "outputs": [],
     "prompt_number": 14
    },
    {
     "cell_type": "heading",
     "level": 2,
     "metadata": {},
     "source": [
      "Studying cut on MET"
     ]
    },
    {
     "cell_type": "code",
     "collapsed": false,
     "input": [
      "#PDF title, root file and canvas\n",
      "PDFName=\"MET_Efficiencies_\"+time.strftime(\"%H_%M_%S_%d_%m_%y\")#+\".pdf\"\n",
      "EffFile= ROOT.TFile(PDFName+\".root\", \"recreate\")\n",
      "CurCanvScan = rootnotes.canvas(\"MyPlot\", (600, 600))\n",
      "\n",
      "#Constructing efficiency histograms\n",
      "Var=0\n",
      "SignalMETEffHisto = GetEffHisto(VariablesToCut[Var][0],\n",
      "                                VariablesToCut[Var][1],\n",
      "                                SigChain,\n",
      "                                \"Signal\",\n",
      "                                VariablesToCut[Var][2],\n",
      "                                VariablesToCut[Var][3],\n",
      "                                VariablesToCut[Var][4])\n",
      "\n",
      "ZvvMETEffHisto = GetEffHisto(VariablesToCut[Var][0],\n",
      "                                VariablesToCut[Var][1],\n",
      "                                ZvvChain,\n",
      "                                \"Zvv\",\n",
      "                                VariablesToCut[Var][2],\n",
      "                                VariablesToCut[Var][3],\n",
      "                                VariablesToCut[Var][4])\n",
      "\n",
      "METSoverZvv=SignalMETEffHisto.Clone(\"METSoverZvv\")\n",
      "METSoverZvv.Sumw2(); METSoverZvv.Divide(ZvvMETEffHisto)\n",
      "\n",
      "#Histogram cosmetics\n",
      "ZvvMETEffHisto.SetStats(ROOT.kFALSE)\n",
      "ZvvMETEffHisto.SetLineStyle(7); SignalMETEffHisto.SetLineStyle(9); METSoverZvv.SetLineStyle(8)\n",
      "ZvvMETEffHisto.SetLineWidth(2); SignalMETEffHisto.SetLineWidth(1); METSoverZvv.SetLineWidth(2)\n",
      "ZvvMETEffHisto.SetLineColor(ROOT.kRed); SignalMETEffHisto.SetLineColor(ROOT.kGreen+1); METSoverZvv.SetLineColor(ROOT.kBlack)\n",
      "\n",
      "#Setting legend\n",
      "LEG=ROOT.TLegend(0.6,0.6,0.9,0.9)\n",
      "LEG.AddEntry(ZvvMETEffHisto, \"#varepsilon(Z+jets)\", \"l\")\n",
      "LEG.AddEntry(ROOT.TObject(), GetMR(ZvvMETEffHisto), \"\")\n",
      "LEG.AddEntry(ROOT.TObject(), GetEWI(ZvvMETEffHisto), \"\")\n",
      "LEG.AddEntry(SignalMETEffHisto, \"#varepsilon(S)\", \"l\")\n",
      "LEG.AddEntry(ROOT.TObject(), GetMR(SignalMETEffHisto), \"\")\n",
      "LEG.AddEntry(ROOT.TObject(), GetEWI(SignalMETEffHisto), \"\")\n",
      "LEG.AddEntry(METSoverZvv, \"#varepsilon(S)/#varepsilon(Z+jets)\", \"l\")\n",
      "LEG.AddEntry(ROOT.TObject(), GetMR(METSoverZvv), \"\")\n",
      "LEG.AddEntry(ROOT.TObject(), GetEWI(METSoverZvv), \"\")\n",
      "LEG.SetFillColor(0)\n",
      "\n",
      "#Setting maximal value of first plotted histogram\n",
      "Maxima=[ZvvMETEffHisto.GetMaximum(), SignalMETEffHisto.GetMaximum(), METSoverZvv.GetMaximum()]\n",
      "ZvvMETEffHisto.SetMaximum(1.05*max(Maxima))\n",
      "\n",
      "#Setting axis titles\n",
      "MinX=float(VariablesToCut[Var][3].split(\",\")[1])\n",
      "MaxX=float(VariablesToCut[Var][3].split(\",\")[-1][0:-1])\n",
      "Nbins=int(VariablesToCut[Var][3].split(\",\")[0][1:])\n",
      "ZvvMETEffHisto.SetTitle(\";\"+\"MET\"+\";A.U./{0:.2f} \".format((MaxX-MinX)/Nbins)+\"GeV\")\n",
      "ZvvMETEffHisto.GetYaxis().SetTitleOffset(1.4)\n",
      "\n",
      "#.GetXaxis().SetRangeUser(0,20)\n",
      "#.GetYaxis().SetRangeUser(0.1,6)\n",
      "#ROOT.gPad.SetLogy()\n",
      "\n",
      "#Plotting\n",
      "ZvvMETEffHisto.Draw(\"hist e\"); SignalMETEffHisto.Draw(\"hist e same\");\n",
      "METSoverZvv.Draw(\"E0 same\")\n",
      "\n",
      "CurCanvScan.Print(PDFName+\".pdf\",\"Title:MET\")\n",
      "ZvvMETEffHisto.Write(); SignalMETEffHisto.Write(); METSoverZvv.Write()\n",
      "EffFile.Close()"
     ],
     "language": "python",
     "metadata": {},
     "outputs": [
      {
       "output_type": "stream",
       "stream": "stderr",
       "text": [
        "TH1F::Sumw2:0: RuntimeWarning: Sum of squares of weights structure already created\n"
       ]
      }
     ],
     "prompt_number": 6
    },
    {
     "cell_type": "heading",
     "level": 2,
     "metadata": {},
     "source": [
      "Studying cut on leading jet pt"
     ]
    },
    {
     "cell_type": "code",
     "collapsed": false,
     "input": [
      "#PDF title, root file and canvas\n",
      "PDFName=\"J1PT_Efficiencies_\"+time.strftime(\"%H_%M_%S_%d_%m_%y\")#+\".pdf\"\n",
      "EffFile= ROOT.TFile(PDFName+\".root\", \"recreate\")\n",
      "CurCanvScan = rootnotes.canvas(\"MyPlot\", (600, 600))\n",
      "\n",
      "#Constructing efficiency histograms\n",
      "Var=1\n",
      "SignalPT1EffHisto = GetEffHisto(VariablesToCut[Var][0],\n",
      "                                VariablesToCut[Var][1],\n",
      "                                SigChain,\n",
      "                                \"Signal\",\n",
      "                                VariablesToCut[Var][2],\n",
      "                                VariablesToCut[Var][3],\n",
      "                                VariablesToCut[Var][4])\n",
      "\n",
      "ZvvPT1EffHisto = GetEffHisto(VariablesToCut[Var][0],\n",
      "                                VariablesToCut[Var][1],\n",
      "                                ZvvChain,\n",
      "                                \"Zvv\",\n",
      "                                VariablesToCut[Var][2],\n",
      "                                VariablesToCut[Var][3],\n",
      "                                VariablesToCut[Var][4])\n",
      "\n",
      "PT1SoverZvv=SignalPT1EffHisto.Clone(\"PT1SoverZvv\")\n",
      "PT1SoverZvv.Sumw2(); PT1SoverZvv.Divide(ZvvPT1EffHisto)\n",
      "\n",
      "#Histogram cosmetics\n",
      "ZvvPT1EffHisto.SetStats(ROOT.kFALSE)\n",
      "ZvvPT1EffHisto.SetLineStyle(7); SignalPT1EffHisto.SetLineStyle(9); PT1SoverZvv.SetLineStyle(8)\n",
      "ZvvPT1EffHisto.SetLineWidth(2); SignalPT1EffHisto.SetLineWidth(1); PT1SoverZvv.SetLineWidth(2)\n",
      "ZvvPT1EffHisto.SetLineColor(ROOT.kRed); SignalPT1EffHisto.SetLineColor(ROOT.kGreen+1); PT1SoverZvv.SetLineColor(ROOT.kBlack)\n",
      "\n",
      "#Setting legend\n",
      "LEG=ROOT.TLegend(0.6,0.6,0.9,0.9)\n",
      "LEG.AddEntry(ZvvPT1EffHisto, \"#varepsilon(Z+jets)\", \"l\")\n",
      "LEG.AddEntry(ROOT.TObject(), GetMR(ZvvPT1EffHisto), \"\")\n",
      "LEG.AddEntry(ROOT.TObject(), GetEWI(ZvvPT1EffHisto), \"\")\n",
      "LEG.AddEntry(SignalPT1EffHisto, \"#varepsilon(S)\", \"l\")\n",
      "LEG.AddEntry(ROOT.TObject(), GetMR(SignalPT1EffHisto), \"\")\n",
      "LEG.AddEntry(ROOT.TObject(), GetEWI(SignalPT1EffHisto), \"\")\n",
      "LEG.AddEntry(PT1SoverZvv, \"#varepsilon(S)/#varepsilon(Z+jets)\", \"l\")\n",
      "LEG.AddEntry(ROOT.TObject(), GetMR(PT1SoverZvv), \"\")\n",
      "LEG.AddEntry(ROOT.TObject(), GetEWI(PT1SoverZvv), \"\")\n",
      "LEG.SetFillColor(0)\n",
      "\n",
      "#Setting maximal value of first plotted histogram\n",
      "Maxima=[ZvvPT1EffHisto.GetMaximum(), SignalPT1EffHisto.GetMaximum(), PT1SoverZvv.GetMaximum()]\n",
      "ZvvPT1EffHisto.SetMaximum(1.05*max(Maxima))\n",
      "\n",
      "#Setting axis titles\n",
      "MinX=float(VariablesToCut[Var][3].split(\",\")[1])\n",
      "MaxX=float(VariablesToCut[Var][3].split(\",\")[-1][0:-1])\n",
      "Nbins=int(VariablesToCut[Var][3].split(\",\")[0][1:])\n",
      "ZvvPT1EffHisto.SetTitle(\";\"+\"p_{T}(j_{1})\"+\";A.U./{0:.2f} \".format((MaxX-MinX)/Nbins)+\"GeV\")\n",
      "ZvvPT1EffHisto.GetYaxis().SetTitleOffset(1.4)\n",
      "\n",
      "#.GetXaxis().SetRangeUser(0,20)\n",
      "#.GetYaxis().SetRangeUser(0.1,6)\n",
      "#ROOT.gPad.SetLogy()\n",
      "\n",
      "#Plotting\n",
      "ZvvPT1EffHisto.Draw(\"hist e\"); SignalPT1EffHisto.Draw(\"hist e same\");\n",
      "PT1SoverZvv.Draw(\"E0 same\")\n",
      "\n",
      "CurCanvScan.Print(PDFName+\".pdf\",\"Title:PT1\")\n",
      "ZvvPT1EffHisto.Write(); SignalPT1EffHisto.Write(); PT1SoverZvv.Write()\n",
      "EffFile.Close()"
     ],
     "language": "python",
     "metadata": {},
     "outputs": [
      {
       "output_type": "stream",
       "stream": "stderr",
       "text": [
        "TH1F::Sumw2:0: RuntimeWarning: Sum of squares of weights structure already created\n"
       ]
      }
     ],
     "prompt_number": 8
    },
    {
     "cell_type": "heading",
     "level": 2,
     "metadata": {},
     "source": [
      "Studying cut on subleading jet pt"
     ]
    },
    {
     "cell_type": "code",
     "collapsed": false,
     "input": [
      "#PDF title, root file and canvas\n",
      "PDFName=\"J2PT_Efficiencies_\"+time.strftime(\"%H_%M_%S_%d_%m_%y\")#+\".pdf\"\n",
      "EffFile= ROOT.TFile(PDFName+\".root\", \"recreate\")\n",
      "CurCanvScan = rootnotes.canvas(\"MyPlot\", (600, 600))\n",
      "\n",
      "#Constructing efficiency histograms\n",
      "Var=2\n",
      "SignalPT2EffHisto = GetEffHisto(VariablesToCut[Var][0],\n",
      "                                VariablesToCut[Var][1],\n",
      "                                SigChain,\n",
      "                                \"Signal\",\n",
      "                                VariablesToCut[Var][2],\n",
      "                                VariablesToCut[Var][3],\n",
      "                                VariablesToCut[Var][4])\n",
      "\n",
      "ZvvPT2EffHisto = GetEffHisto(VariablesToCut[Var][0],\n",
      "                                VariablesToCut[Var][1],\n",
      "                                ZvvChain,\n",
      "                                \"Zvv\",\n",
      "                                VariablesToCut[Var][2],\n",
      "                                VariablesToCut[Var][3],\n",
      "                                VariablesToCut[Var][4])\n",
      "\n",
      "PT2SoverZvv=SignalPT2EffHisto.Clone(\"PT2SoverZvv\")\n",
      "PT2SoverZvv.Sumw2(); PT2SoverZvv.Divide(ZvvPT2EffHisto)\n",
      "\n",
      "#Histogram cosmetics\n",
      "ZvvPT2EffHisto.SetStats(ROOT.kFALSE)\n",
      "ZvvPT2EffHisto.SetLineStyle(7); SignalPT2EffHisto.SetLineStyle(9); PT2SoverZvv.SetLineStyle(8)\n",
      "ZvvPT2EffHisto.SetLineWidth(2); SignalPT2EffHisto.SetLineWidth(1); PT2SoverZvv.SetLineWidth(2)\n",
      "ZvvPT2EffHisto.SetLineColor(ROOT.kRed); SignalPT2EffHisto.SetLineColor(ROOT.kGreen+1); PT2SoverZvv.SetLineColor(ROOT.kBlack)\n",
      "\n",
      "#Setting legend\n",
      "LEG=ROOT.TLegend(0.6,0.6,0.9,0.9)\n",
      "LEG.AddEntry(ZvvPT2EffHisto, \"#varepsilon(Z+jets)\", \"l\")\n",
      "LEG.AddEntry(ROOT.TObject(), GetMR(ZvvPT2EffHisto), \"\")\n",
      "LEG.AddEntry(ROOT.TObject(), GetEWI(ZvvPT2EffHisto), \"\")\n",
      "LEG.AddEntry(SignalPT2EffHisto, \"#varepsilon(S)\", \"l\")\n",
      "LEG.AddEntry(ROOT.TObject(), GetMR(SignalPT2EffHisto), \"\")\n",
      "LEG.AddEntry(ROOT.TObject(), GetEWI(SignalPT2EffHisto), \"\")\n",
      "LEG.AddEntry(PT2SoverZvv, \"#varepsilon(S)/#varepsilon(Z+jets)\", \"l\")\n",
      "LEG.AddEntry(ROOT.TObject(), GetMR(PT2SoverZvv), \"\")\n",
      "LEG.AddEntry(ROOT.TObject(), GetEWI(PT2SoverZvv), \"\")\n",
      "LEG.SetFillColor(0)\n",
      "\n",
      "#Setting maximal value of first plotted histogram\n",
      "Maxima=[ZvvPT2EffHisto.GetMaximum(), SignalPT2EffHisto.GetMaximum(), PT2SoverZvv.GetMaximum()]\n",
      "ZvvPT2EffHisto.SetMaximum(1.05*max(Maxima))\n",
      "\n",
      "#Setting axis titles\n",
      "MinX=float(VariablesToCut[Var][3].split(\",\")[1])\n",
      "MaxX=float(VariablesToCut[Var][3].split(\",\")[-1][0:-1])\n",
      "Nbins=int(VariablesToCut[Var][3].split(\",\")[0][1:])\n",
      "ZvvPT2EffHisto.SetTitle(\";\"+\"p_{T}(j_{2})\"+\";A.U./{0:.2f} \".format((MaxX-MinX)/Nbins)+\"GeV\")\n",
      "ZvvPT2EffHisto.GetYaxis().SetTitleOffset(1.4)\n",
      "\n",
      "#.GetXaxis().SetRangeUser(0,20)\n",
      "#.GetYaxis().SetRangeUser(0.1,6)\n",
      "#ROOT.gPad.SetLogy()\n",
      "\n",
      "#Plotting\n",
      "ZvvPT2EffHisto.Draw(\"hist e\"); SignalPT2EffHisto.Draw(\"hist e same\");\n",
      "PT2SoverZvv.Draw(\"E0 same\")\n",
      "\n",
      "CurCanvScan.Print(PDFName+\".pdf\",\"Title:PT2\")\n",
      "ZvvPT2EffHisto.Write(); SignalPT2EffHisto.Write(); PT2SoverZvv.Write()\n",
      "EffFile.Close()"
     ],
     "language": "python",
     "metadata": {},
     "outputs": [
      {
       "output_type": "stream",
       "stream": "stderr",
       "text": [
        "TH1F::Sumw2:0: RuntimeWarning: Sum of squares of weights structure already created\n"
       ]
      }
     ],
     "prompt_number": 9
    },
    {
     "cell_type": "heading",
     "level": 2,
     "metadata": {},
     "source": [
      "Studying cut on delta eta leading jets"
     ]
    },
    {
     "cell_type": "code",
     "collapsed": false,
     "input": [
      "#PDF title, root file and canvas\n",
      "PDFName=\"DeltaEtaJ1J2_Efficiencies_\"+time.strftime(\"%H_%M_%S_%d_%m_%y\")#+\".pdf\"\n",
      "EffFile= ROOT.TFile(PDFName+\".root\", \"recreate\")\n",
      "CurCanvScan = rootnotes.canvas(\"MyPlot\", (600, 600))\n",
      "\n",
      "#Constructing efficiency histograms\n",
      "Var=3\n",
      "SignalDEEffHisto = GetEffHisto(VariablesToCut[Var][0],\n",
      "                                VariablesToCut[Var][1],\n",
      "                                SigChain,\n",
      "                                \"Signal\",\n",
      "                                VariablesToCut[Var][2],\n",
      "                                VariablesToCut[Var][3],\n",
      "                                VariablesToCut[Var][4])\n",
      "\n",
      "ZvvDEEffHisto = GetEffHisto(VariablesToCut[Var][0],\n",
      "                                VariablesToCut[Var][1],\n",
      "                                ZvvChain,\n",
      "                                \"Zvv\",\n",
      "                                VariablesToCut[Var][2],\n",
      "                                VariablesToCut[Var][3],\n",
      "                                VariablesToCut[Var][4])\n",
      "\n",
      "DESoverZvv=SignalDEEffHisto.Clone(\"DESoverZvv\")\n",
      "DESoverZvv.Sumw2(); DESoverZvv.Divide(ZvvDEEffHisto)\n",
      "\n",
      "#Histogram cosmetics\n",
      "ZvvDEEffHisto.SetStats(ROOT.kFALSE)\n",
      "ZvvDEEffHisto.SetLineStyle(7); SignalDEEffHisto.SetLineStyle(9); DESoverZvv.SetLineStyle(8)\n",
      "ZvvDEEffHisto.SetLineWidth(2); SignalDEEffHisto.SetLineWidth(1); DESoverZvv.SetLineWidth(2)\n",
      "ZvvDEEffHisto.SetLineColor(ROOT.kRed); SignalDEEffHisto.SetLineColor(ROOT.kGreen+1); DESoverZvv.SetLineColor(ROOT.kBlack)\n",
      "\n",
      "#Setting legend\n",
      "LEG=ROOT.TLegend(0.6,0.6,0.9,0.9)\n",
      "LEG.AddEntry(ZvvDEEffHisto, \"#varepsilon(Z+jets)\", \"l\")\n",
      "LEG.AddEntry(ROOT.TObject(), GetMR(ZvvDEEffHisto), \"\")\n",
      "LEG.AddEntry(ROOT.TObject(), GetEWI(ZvvDEEffHisto), \"\")\n",
      "LEG.AddEntry(SignalDEEffHisto, \"#varepsilon(S)\", \"l\")\n",
      "LEG.AddEntry(ROOT.TObject(), GetMR(SignalDEEffHisto), \"\")\n",
      "LEG.AddEntry(ROOT.TObject(), GetEWI(SignalDEEffHisto), \"\")\n",
      "LEG.AddEntry(DESoverZvv, \"#varepsilon(S)/#varepsilon(Z+jets)\", \"l\")\n",
      "LEG.AddEntry(ROOT.TObject(), GetMR(DESoverZvv), \"\")\n",
      "LEG.AddEntry(ROOT.TObject(), GetEWI(DESoverZvv), \"\")\n",
      "LEG.SetFillColor(0)\n",
      "\n",
      "#Setting maximal value of first plotted histogram\n",
      "Maxima=[ZvvDEEffHisto.GetMaximum(), SignalDEEffHisto.GetMaximum(), DESoverZvv.GetMaximum()]\n",
      "ZvvDEEffHisto.SetMaximum(1.05*max(Maxima))\n",
      "\n",
      "#Setting axis titles\n",
      "MinX=float(VariablesToCut[Var][3].split(\",\")[1])\n",
      "MaxX=float(VariablesToCut[Var][3].split(\",\")[-1][0:-1])\n",
      "Nbins=int(VariablesToCut[Var][3].split(\",\")[0][1:])\n",
      "ZvvDEEffHisto.SetTitle(\";\"+\"#Delta#eta(j_{1},j_{2})\"+\";A.U./{0:.2f} \".format((MaxX-MinX)/Nbins)+\"GeV\")\n",
      "ZvvDEEffHisto.GetYaxis().SetTitleOffset(1.4)\n",
      "\n",
      "#.GetXaxis().SetRangeUser(0,20)\n",
      "#.GetYaxis().SetRangeUser(0.1,6)\n",
      "#ROOT.gPad.SetLogy()\n",
      "\n",
      "#Plotting\n",
      "ZvvDEEffHisto.Draw(\"hist e\"); SignalDEEffHisto.Draw(\"hist e same\");\n",
      "DESoverZvv.Draw(\"E0 same\")\n",
      "\n",
      "CurCanvScan.Print(PDFName+\".pdf\",\"Title:Delta ETA J1 J2\")\n",
      "ZvvDEEffHisto.Write(); SignalDEEffHisto.Write(); DESoverZvv.Write()\n",
      "EffFile.Close()"
     ],
     "language": "python",
     "metadata": {},
     "outputs": [
      {
       "output_type": "stream",
       "stream": "stderr",
       "text": [
        "TH1F::Sumw2:0: RuntimeWarning: Sum of squares of weights structure already created\n"
       ]
      }
     ],
     "prompt_number": 15
    },
    {
     "cell_type": "code",
     "collapsed": false,
     "input": [],
     "language": "python",
     "metadata": {},
     "outputs": []
    }
   ],
   "metadata": {}
  }
 ]
}