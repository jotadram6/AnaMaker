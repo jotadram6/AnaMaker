{
 "metadata": {
  "name": ""
 },
 "nbformat": 3,
 "nbformat_minor": 0,
 "worksheets": [
  {
   "cells": [
    {
     "cell_type": "code",
     "collapsed": false,
     "input": [
      "from Generic import *\n",
      "%matplotlib inline"
     ],
     "language": "python",
     "metadata": {},
     "outputs": [],
     "prompt_number": 1
    },
    {
     "cell_type": "code",
     "collapsed": false,
     "input": [
      "#To read Delphes root files\n",
      "ROOT.gSystem.Load(\"libDelphes\")"
     ],
     "language": "python",
     "metadata": {},
     "outputs": [
      {
       "metadata": {},
       "output_type": "pyout",
       "prompt_number": 2,
       "text": [
        "0"
       ]
      }
     ],
     "prompt_number": 2
    },
    {
     "cell_type": "code",
     "collapsed": false,
     "input": [
      "#If input samples is a list use 0 if is just one file use 1 on TSam variable\n",
      "def ChainConstructor(Samples, TreeName, TSam):\n",
      "    if TSam==1:\n",
      "        MainChain=ROOT.TChain(TreeName)\n",
      "        MainChain.Add(Samples)\n",
      "    elif TSam==0:\n",
      "        MainChain=ROOT.TChain(TreeName)\n",
      "        for f in Samples:\n",
      "            MainChain.Add(f)\n",
      "    return MainChain"
     ],
     "language": "python",
     "metadata": {},
     "outputs": [],
     "prompt_number": 3
    },
    {
     "cell_type": "heading",
     "level": 3,
     "metadata": {},
     "source": [
      "Reading samples"
     ]
    },
    {
     "cell_type": "code",
     "collapsed": false,
     "input": [
      "TreeName=\"Delphes\"\n",
      "#Signal Samples\n",
      "SigSamples=[\"/home/jose/ZvvJets_Delphes/run_32_delphes.root\"]\n",
      "SigTSam=0\n",
      "SigChain=ChainConstructor(SigSamples, TreeName, SigTSam)\n",
      "#Zvv Samples\n",
      "ZvvSamples=[\"/home/jose/ZvvJets_Delphes/run_32_delphes.root\"]\n",
      "ZvvTSam=0\n",
      "ZvvChain=ChainConstructor(ZvvSamples, TreeName, ZvvTSam)"
     ],
     "language": "python",
     "metadata": {},
     "outputs": [],
     "prompt_number": 4
    },
    {
     "cell_type": "heading",
     "level": 3,
     "metadata": {},
     "source": [
      "Studying efficiencies"
     ]
    },
    {
     "cell_type": "code",
     "collapsed": false,
     "input": [
      "VariablesToCut=[['g',\"\",\"MissingET.MET\",\"(100,0,1000)\",\"\"], #MET\n",
      "                ['g',\"\",\"Jet.PT\",\"(100,20,1000)\",\"\"] #Jets PT\n",
      "                ]"
     ],
     "language": "python",
     "metadata": {},
     "outputs": [],
     "prompt_number": 5
    },
    {
     "cell_type": "code",
     "collapsed": false,
     "input": [
      "#PDF title, root file and canvas\n",
      "PDFName=\"Efficiencies_\"+time.strftime(\"%H_%M_%S_%d_%m_%y\")#+\".pdf\"\n",
      "EffFile= ROOT.TFile(PDFName+\".root\", \"recreate\")\n",
      "CurCanvScan = rootnotes.canvas(\"MyPlot\", (600, 600))\n",
      "\n",
      "#Constructing efficiency histograms\n",
      "SignalMETEffHisto = GetEffHisto(VariablesToCut[0][0],\n",
      "                                VariablesToCut[0][1],\n",
      "                                SigChain,\n",
      "                                \"Signal\",\n",
      "                                VariablesToCut[0][2],\n",
      "                                VariablesToCut[0][3],\n",
      "                                VariablesToCut[0][4])\n",
      "\n",
      "ZvvMETEffHisto = GetEffHisto(VariablesToCut[0][0],\n",
      "                                VariablesToCut[0][1],\n",
      "                                ZvvChain,\n",
      "                                \"Zvv\",\n",
      "                                VariablesToCut[0][2],\n",
      "                                VariablesToCut[0][3],\n",
      "                                VariablesToCut[0][4])\n",
      "\n",
      "METSoverZvv=SignalMETEffHisto.Clone(\"METSoverZvv\")\n",
      "METSoverZvv.Sumw2(); METSoverZvv.Divide(ZvvMETEffHisto)\n",
      "\n",
      "#Histogram cosmetics\n",
      "ZvvMETEffHisto.SetStats(ROOT.kFALSE)\n",
      "ZvvMETEffHisto.SetLineStyle(7); SignalMETEffHisto.SetLineStyle(9); METSoverZvv.SetLineStyle(8)\n",
      "ZvvMETEffHisto.SetLineWidth(2); SignalMETEffHisto.SetLineWidth(1); METSoverZvv.SetLineWidth(2)\n",
      "ZvvMETEffHisto.SetLineColor(ROOT.kRed); SignalMETEffHisto.SetLineColor(ROOT.kGreen+1); METSoverZvv.SetLineColor(ROOT.kBlack)\n",
      "\n",
      "#Setting legend\n",
      "LEG=ROOT.TLegend(0.6,0.6,0.9,0.9)\n",
      "LEG.AddEntry(ZvvMETEffHisto, \"#varepsilon(Z+jets)\", \"l\")\n",
      "LEG.AddEntry(ROOT.TObject(), GetMR(ZvvMETEffHisto), \"\")\n",
      "LEG.AddEntry(ROOT.TObject(), GetEWI(ZvvMETEffHisto), \"\")\n",
      "LEG.AddEntry(SignalMETEffHisto, \"#varepsilon(S)\", \"l\")\n",
      "LEG.AddEntry(ROOT.TObject(), GetMR(SignalMETEffHisto), \"\")\n",
      "LEG.AddEntry(ROOT.TObject(), GetEWI(SignalMETEffHisto), \"\")\n",
      "LEG.AddEntry(METSoverZvv, \"#varepsilon(S)/#varepsilon(Z+jets)\", \"l\")\n",
      "LEG.AddEntry(ROOT.TObject(), GetMR(METSoverZvv), \"\")\n",
      "LEG.AddEntry(ROOT.TObject(), GetEWI(METSoverZvv), \"\")\n",
      "LEG.SetFillColor(0)\n",
      "\n",
      "#Setting maximal value of first plotted histogram\n",
      "Maxima=[ZvvMETEffHisto.GetMaximum(), SignalMETEffHisto.GetMaximum(), METSoverZvv.GetMaximum()]\n",
      "ZvvMETEffHisto.SetMaximum(1.05*max(Maxima))\n",
      "\n",
      "#Setting axis titles\n",
      "MinX=float(VariablesToCut[0][3].split(\",\")[1])\n",
      "MaxX=float(VariablesToCut[0][3].split(\",\")[-1][0:-1])\n",
      "Nbins=int(VariablesToCut[0][3].split(\",\")[0][1:])\n",
      "ZvvMETEffHisto.SetTitle(\";\"+\"MET\"+\";A.U./{0:.2f} \".format((MaxX-MinX)/Nbins)+\"GeV\")\n",
      "ZvvMETEffHisto.GetYaxis().SetTitleOffset(1.4)\n",
      "\n",
      "#.GetXaxis().SetRangeUser(0,20)\n",
      "#.GetYaxis().SetRangeUser(0.1,6)\n",
      "#ROOT.gPad.SetLogy()\n",
      "\n",
      "#Plotting\n",
      "ZvvMETEffHisto.Draw(\"hist e\"); SignalMETEffHisto.Draw(\"hist e same\");\n",
      "METSoverZvv.Draw(\"E0 same\")\n",
      "\n",
      "CurCanvScan.Print(PDFName+\".pdf\",\"Title:MET\")\n",
      "ZvvMETEffHisto.Write(); SignalMETEffHisto.Write(); METSoverZvv.Write()\n",
      "EffFile.Close()"
     ],
     "language": "python",
     "metadata": {},
     "outputs": [
      {
       "output_type": "stream",
       "stream": "stderr",
       "text": [
        "TH1F::Sumw2:0: RuntimeWarning: Sum of squares of weights structure already created\n"
       ]
      },
      {
       "metadata": {},
       "output_type": "pyout",
       "prompt_number": 7,
       "text": [
        "689"
       ]
      }
     ],
     "prompt_number": 7
    },
    {
     "cell_type": "code",
     "collapsed": false,
     "input": [],
     "language": "python",
     "metadata": {},
     "outputs": []
    }
   ],
   "metadata": {}
  }
 ]
}