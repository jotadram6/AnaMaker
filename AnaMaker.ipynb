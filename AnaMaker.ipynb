{
 "metadata": {
  "name": ""
 },
 "nbformat": 3,
 "nbformat_minor": 0,
 "worksheets": [
  {
   "cells": [
    {
     "cell_type": "code",
     "collapsed": false,
     "input": [
      "from Generic import *\n",
      "%matplotlib inline"
     ],
     "language": "python",
     "metadata": {},
     "outputs": [],
     "prompt_number": 1
    },
    {
     "cell_type": "code",
     "collapsed": false,
     "input": [
      "ROOT.gSystem.Load(\"libDelphes\")"
     ],
     "language": "python",
     "metadata": {},
     "outputs": [
      {
       "metadata": {},
       "output_type": "pyout",
       "prompt_number": 3,
       "text": [
        "0"
       ]
      }
     ],
     "prompt_number": 3
    },
    {
     "cell_type": "code",
     "collapsed": false,
     "input": [
      "#If input samples is a list use 0 if is just one file use 1 on TSam variable\n",
      "def ChainConstructor(Samples, TreeName, TSam):\n",
      "    if TSam==1:\n",
      "        MainChain=ROOT.TChain(TreeName)\n",
      "        MainChain.Add(Samples)\n",
      "    elif TSam==0:\n",
      "        MainChain=ROOT.TChain(TreeName)\n",
      "        for f in Samples:\n",
      "            MainChain.Add(f)\n",
      "    return MainChain"
     ],
     "language": "python",
     "metadata": {},
     "outputs": [],
     "prompt_number": 8
    },
    {
     "cell_type": "heading",
     "level": 3,
     "metadata": {},
     "source": [
      "Reading samples"
     ]
    },
    {
     "cell_type": "code",
     "collapsed": false,
     "input": [
      "TreeName=\"Delphes\"\n",
      "#Signal Samples\n",
      "SigSamples=[\"/home/jose/ZvvJets_Delphes/run_32_delphes.root\"]\n",
      "SigTSam=0\n",
      "SigChain=ChainConstructor(SigSamples, TreeName, SigTSam)\n",
      "#Zvv Samples\n",
      "ZvvSamples=[\"/home/jose/ZvvJets_Delphes/run_32_delphes.root\"]\n",
      "ZvvTSam=0\n",
      "ZvvChain=ChainConstructor(ZvvSamples, TreeName, ZvvTSam)"
     ],
     "language": "python",
     "metadata": {},
     "outputs": [],
     "prompt_number": 11
    },
    {
     "cell_type": "heading",
     "level": 3,
     "metadata": {},
     "source": [
      "Studying efficiencies"
     ]
    },
    {
     "cell_type": "code",
     "collapsed": false,
     "input": [
      "VariablesToCut=[['g',\"\",\"MissingET.MET\",\"(100,0,1000)\",\"\"], #MET\n",
      "                ['g',\"\",\"Jet.PT\",\"(100,20,1000)\",\"\"] #Jets PT\n",
      "                ]"
     ],
     "language": "python",
     "metadata": {},
     "outputs": [],
     "prompt_number": 13
    },
    {
     "cell_type": "code",
     "collapsed": false,
     "input": [
      "PDFName=\"Efficiencies_\"+time.strftime(\"%H_%M_%S_%d_%m_%y\")+\".pdf\"\n",
      "CurCanvScan = rootnotes.canvas(\"MyPlot\", (600, 600))\n",
      "\n",
      "SignalMETEffHisto = GetEffHisto(VariablesToCut[0][0],\n",
      "                                VariablesToCut[0][1],\n",
      "                                SigChain,\n",
      "                                \"Signal\",\n",
      "                                VariablesToCut[0][2],\n",
      "                                VariablesToCut[0][3],\n",
      "                                VariablesToCut[0][4])\n",
      "\n",
      "ZvvMETEffHisto = GetEffHisto(VariablesToCut[0][0],\n",
      "                                VariablesToCut[0][1],\n",
      "                                ZvvChain,\n",
      "                                \"Zvv\",\n",
      "                                VariablesToCut[0][2],\n",
      "                                VariablesToCut[0][3],\n",
      "                                VariablesToCut[0][4])"
     ],
     "language": "python",
     "metadata": {},
     "outputs": []
    },
    {
     "cell_type": "code",
     "collapsed": false,
     "input": [],
     "language": "python",
     "metadata": {},
     "outputs": []
    }
   ],
   "metadata": {}
  }
 ]
}